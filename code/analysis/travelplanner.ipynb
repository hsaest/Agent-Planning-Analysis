{
 "cells": [
  {
   "cell_type": "code",
   "execution_count": 1,
   "metadata": {},
   "outputs": [
    {
     "name": "stderr",
     "output_type": "stream",
     "text": [
      "/data/miniforge3/envs/agent-planning/lib/python3.9/site-packages/tqdm/auto.py:21: TqdmWarning: IProgress not found. Please update jupyter and ipywidgets. See https://ipywidgets.readthedocs.io/en/stable/user_install.html\n",
      "  from .autonotebook import tqdm as notebook_tqdm\n"
     ]
    }
   ],
   "source": [
    "import torch\n",
    "from transformers import AutoModelForCausalLM, AutoTokenizer\n",
    "import os\n",
    "\n",
    "tokenizer = AutoTokenizer.from_pretrained('meta-llama/Llama-3.1-8B-Instruct')"
   ]
  },
  {
   "cell_type": "code",
   "execution_count": 2,
   "metadata": {},
   "outputs": [
    {
     "name": "stderr",
     "output_type": "stream",
     "text": [
      "/tmp/ipykernel_2485531/2587897438.py:1: FutureWarning: You are using `torch.load` with `weights_only=False` (the current default value), which uses the default pickle module implicitly. It is possible to construct malicious pickle data which will execute arbitrary code during unpickling (See https://github.com/pytorch/pytorch/blob/main/SECURITY.md#untrusted-models for more details). In a future release, the default value for `weights_only` will be flipped to `True`. This limits the functions that could be executed during unpickling. Arbitrary objects will no longer be allowed to be loaded via this mode unless they are explicitly allowlisted by the user via `torch.serialization.add_safe_globals`. We recommend you start setting `weights_only=True` for any use case where you don't have full control of the loaded file. Please open an issue on GitHub for any issues related to this experimental feature.\n",
      "  saves = torch.load('../../data/TravelPlanner/attr_score/llama3.1-8B.pt')\n"
     ]
    }
   ],
   "source": [
    "saves = torch.load('../../data/TravelPlanner/attr_score/llama3.1-8B.pt')"
   ]
  },
  {
   "cell_type": "code",
   "execution_count": 3,
   "metadata": {},
   "outputs": [
    {
     "data": {
      "text/plain": [
       "178"
      ]
     },
     "execution_count": 3,
     "metadata": {},
     "output_type": "execute_result"
    }
   ],
   "source": [
    "len(saves)"
   ]
  },
  {
   "cell_type": "code",
   "execution_count": 4,
   "metadata": {},
   "outputs": [],
   "source": [
    "import json\n",
    "def load_line_json_data(filename):\n",
    "    data = []\n",
    "    with open(filename, 'r', encoding='utf-8') as f:\n",
    "        for line in f.read().strip().split('\\n'):\n",
    "            unit = json.loads(line)\n",
    "            data.append(unit)\n",
    "    return data\n"
   ]
  },
  {
   "cell_type": "code",
   "execution_count": 6,
   "metadata": {},
   "outputs": [],
   "source": [
    "from datasets import load_dataset\n",
    "\n",
    "travel_data = load_dataset('osunlp/TravelPlanner','validation')['validation']"
   ]
  },
  {
   "cell_type": "code",
   "execution_count": 10,
   "metadata": {},
   "outputs": [],
   "source": [
    "import re\n",
    "model_name = 'llama3.1-8B'\n",
    "ref_info_list = load_line_json_data(f\"../../data/TravelPlanner/TravelPlanner_Items/{model_name}_attr_ref_info.jsonl\")\n",
    "\n",
    "def replace_placeholders_and_collect_pairs(input_string):\n",
    "    # Define the regex pattern\n",
    "    pattern = r'\\[PLACEHOLDER \\d+ \\[(selected_[\\w\\d_]+)\\] ([\\d\\w\\s.,&/]+)\\]'\n",
    "    \n",
    "    # Create a list to store the matched pair tuples\n",
    "    pairs = []\n",
    "\n",
    "    # Define the function for replacement\n",
    "    def replace_placeholders(match):\n",
    "        # Extract the matched content, keep the part starting with selected_ and the following value\n",
    "        selected_item = match.group(1)\n",
    "        value = match.group(2)\n",
    "        # Add the pair tuple to the list\n",
    "        pairs.append((selected_item, value))\n",
    "        # Return {} to replace the PLACEHOLDER part\n",
    "        return \"{}\"\n",
    "\n",
    "    # Use re.sub() to perform the replacement and get the replaced string\n",
    "    output_string = re.sub(pattern, replace_placeholders, input_string)\n",
    "\n",
    "    # Return the replaced string and the recognized pair tuples\n",
    "    return output_string, pairs\n",
    "\n",
    "pairs_save = {}\n",
    "\n",
    "for key in range(180):\n",
    "    ref_info = ref_info_list[key]\n",
    "    if ref_info:\n",
    "        processed_ref_inf, pairs = replace_placeholders_and_collect_pairs(ref_info)\n",
    "        pairs_save[key] = pairs\n",
    "        if key not in saves:\n",
    "            print(f\"--{key}\")\n",
    "            pairs_save[key] = None\n",
    "            continue\n",
    "        if len(pairs)+1 != saves[key]['attr'].shape[-1]:\n",
    "            pairs_save[key] = None\n",
    "            print(key)\n",
    "    else:\n",
    "        pairs_save[key] = None"
   ]
  },
  {
   "cell_type": "code",
   "execution_count": 11,
   "metadata": {},
   "outputs": [
    {
     "name": "stderr",
     "output_type": "stream",
     "text": [
      "  0%|          | 0/180 [00:00<?, ?it/s]"
     ]
    },
    {
     "name": "stderr",
     "output_type": "stream",
     "text": [
      "100%|██████████| 180/180 [00:02<00:00, 76.09it/s]\n"
     ]
    }
   ],
   "source": [
    "from tqdm import tqdm\n",
    "\n",
    "def normalize(mean_tensors):\n",
    "    # Calculate the maximum absolute value along the first dimension (row) of each tensor for normalization\n",
    "    max_abs_vals, _ = torch.max(torch.abs(mean_tensors), dim=0, keepdim=True)\n",
    "    \n",
    "    # Normalize using the maximum absolute value, keep the original sign, and avoid division by zero\n",
    "    normalized_tensors = torch.where(max_abs_vals == 0, mean_tensors, mean_tensors / max_abs_vals)\n",
    "\n",
    "    return normalized_tensors\n",
    "\n",
    "def obtain_token_and_attr(output_tokens, attr, start):\n",
    "     \n",
    "    index = start\n",
    "\n",
    "    item_token = []\n",
    "    item_attr = []\n",
    "\n",
    "    while index < len(output_tokens)-2:\n",
    "         \n",
    "        if output_tokens[index] in ['[', \"{'\", \"':\", 'Ġ',\"Ġ'\",\"',\",',',\"'},\",\"Ġ{'\",\"':\",\"Ġ'\",  \"Ġ'\",'Ġ\"']:\n",
    "            index += 1\n",
    "            continue\n",
    "\n",
    "        if index + 3 < len(output_tokens) and tokenizer.convert_tokens_to_string([output_tokens[index],output_tokens[index+1],output_tokens[index+2],output_tokens[index+3]]).lower() == 'flight number: f':\n",
    "            index+=4\n",
    "            continue\n",
    "\n",
    "        if output_tokens[index] in [\"'},\",'days']:\n",
    "            break\n",
    "\n",
    "        if tokenizer.convert_tokens_to_string([output_tokens[index],output_tokens[index+1]]).lower() in ['transportation','breakfast','attraction','lunch','dinner','accommodation','current_city']:\n",
    "            break\n",
    "\n",
    "        item_token.append(output_tokens[index])\n",
    "        if torch.any(torch.abs(attr[index]) > 0):\n",
    "            item_attr.append(attr[index])\n",
    "\n",
    "        index += 1\n",
    "    \n",
    "    if len(item_attr) > 0:\n",
    "        return tokenizer.convert_tokens_to_string(item_token), torch.sum(torch.stack(item_attr),dim=0)\n",
    "    else:\n",
    "        return None, None\n",
    "\n",
    "data = []\n",
    "\n",
    "for key in tqdm(range(180)):\n",
    "    items = []\n",
    "    if pairs_save[key] and key in saves:\n",
    "\n",
    "        output_tokens = saves[key]['output_tokens']\n",
    "        token_attr = saves[key]['attr']\n",
    "\n",
    "        for idx, output_token in enumerate(saves[key]['output_tokens']):\n",
    "            \n",
    "            if output_token == 'transport' and saves[key]['output_tokens'][idx+1]== 'ation':\n",
    "                token, attr = obtain_token_and_attr(output_tokens,token_attr,idx+2)\n",
    "                items.append(('transportation',token,attr))\n",
    "            \n",
    "            elif output_token == 'break' and saves[key]['output_tokens'][idx+1]== 'fast':\n",
    "                token, attr = obtain_token_and_attr(output_tokens,token_attr,idx+2)\n",
    "                items.append(('breakfast',token,attr))\n",
    "\n",
    "            elif output_token == 'attr' and saves[key]['output_tokens'][idx+1]== 'action':\n",
    "                token, attr = obtain_token_and_attr(output_tokens,token_attr,idx+2)\n",
    "                items.append(('attraction',token,attr))\n",
    "\n",
    "            elif output_token == 'l' and saves[key]['output_tokens'][idx+1]== 'unch':\n",
    "                token, attr = obtain_token_and_attr(output_tokens,token_attr,idx+2)\n",
    "                items.append(('lunch',token,attr))\n",
    "\n",
    "            elif output_token == 'd' and saves[key]['output_tokens'][idx+1]== 'inner':\n",
    "                token, attr = obtain_token_and_attr(output_tokens,token_attr,idx+2)\n",
    "                items.append(('dinner',token,attr))\n",
    "            \n",
    "            elif output_token == 'accom' and saves[key]['output_tokens'][idx+1]== 'modation':\n",
    "                token, attr = obtain_token_and_attr(output_tokens,token_attr,idx+2)\n",
    "                items.append(('accommodation',token,attr))\n",
    "    data.append(items)\n"
   ]
  },
  {
   "cell_type": "code",
   "execution_count": 19,
   "metadata": {},
   "outputs": [
    {
     "name": "stdout",
     "output_type": "stream",
     "text": [
      "[[('transportation', '3927581 from Washington to Myrtle Beach Departure Time:11:03 Arrival Time:13:31', tensor([0.1210, 0.5906], device='cuda:0')), ('dinner', 'Dunkin\\' Donuts Myrtle Beach\",', tensor([-0.1524,  0.0996], device='cuda:0')), ('accommodation', 'Kharkovy Cottage & Hotel Myrtle Beach', tensor([ 0.2461, -1.8233], device='cuda:0'))], [('breakfast', 'Subway Myrtle Beach', tensor([-0.0355,  0.2059], device='cuda:0')), ('attraction', 'Broadway at the Beach Myrtle Beach;Myrtle Beach State Park Myrtle Beach;Ripley\\'s Aquarium of Myrtle Beach Myrtle Beach;\",', tensor([-0.0436, -0.1040], device='cuda:0')), ('lunch', 'Eat Street Express Myrtle Beach', tensor([ 0.4019, -0.2580], device='cuda:0')), ('dinner', 'Eat Street Express Myrtle Beach', tensor([ 0.4138, -0.8159], device='cuda:0')), ('accommodation', 'Kharkovy Cottage & Hotel Myrtle Beach', tensor([0.0019, 0.0351], device='cuda:0'))], [('transportation', '3926434 from Myrtle Beach to Washington Departure Time:13:45 Arrival Time:15:02', tensor([-0.0785,  0.1497], device='cuda:0')), ('breakfast', 'Flying Mango Myrtle Beach', tensor([-0.1008,  0.3113], device='cuda:0')), ('lunch', 'Exotic India Myrtle Beach', tensor([-0.0348,  0.4198], device='cuda:0')), ('dinner', 'Coco Bambu Broadway at the Beach', tensor([-0.1713,  0.4083], device='cuda:0')), ('accommodation', \" '-\", tensor([0.0044, 0.0287], device='cuda:0'))]]\n"
     ]
    },
    {
     "name": "stderr",
     "output_type": "stream",
     "text": [
      "100%|██████████| 180/180 [00:00<00:00, 4395.44it/s]"
     ]
    },
    {
     "name": "stdout",
     "output_type": "stream",
     "text": [
      "(1, 0.06346722692251205)\n",
      "(3, -0.008866379968822002)\n",
      "(5, 0.024129832163453102)\n",
      "(7, 0.055365052074193954)\n"
     ]
    },
    {
     "name": "stderr",
     "output_type": "stream",
     "text": [
      "\n"
     ]
    }
   ],
   "source": [
    "outputs = []\n",
    "\n",
    "for index,instance in enumerate(data):\n",
    "    if instance == []:\n",
    "        outputs.append(None)\n",
    "        continue\n",
    "    packages = []\n",
    "    current_package = []\n",
    "    # Set a flag, package from 'transportation' to 'accommodation'\n",
    "    for entry in instance:\n",
    "        label = entry[0]\n",
    "        \n",
    "        # if label == 'attraction':\n",
    "        #     continue\n",
    "\n",
    "        # If 'transportation' is encountered, start a new package\n",
    "        if label == 'transportation' and current_package:\n",
    "            current_package = []\n",
    "        # Add each entry to the current package\n",
    "\n",
    "        if entry[1] and \"'-'\" not in entry[1] :\n",
    "        # if entry[1]:\n",
    "           \n",
    "            current_package.append(entry)\n",
    "\n",
    "        # If 'accommodation' is encountered, finish the package and add it to the packages list\n",
    "        if label == 'accommodation':\n",
    "            packages.append(current_package)\n",
    "\n",
    "\n",
    "    outputs.append(packages[:7])\n",
    "\n",
    "print(outputs[0])\n",
    "question_attr = {idx:[] for idx in range(1,8)}\n",
    "insight_attr = []\n",
    "\n",
    "for instance in tqdm(outputs[:]):\n",
    "    if instance:\n",
    "        insight = []\n",
    "        for idx, item in enumerate(instance):\n",
    "            # print(item)\n",
    "            item = [x[2] for x in item ]\n",
    "            insight= [x[0] for x in item]\n",
    "            # print(insight)\n",
    "            questions = [x[-1] for x in item ]\n",
    "            if len(questions) > 0:\n",
    "                question_mean_attr = torch.mean(torch.stack(questions))\n",
    "                question_attr[idx+1].append(question_mean_attr)\n",
    "                insight_mean_attr = torch.sum(torch.stack(insight))\n",
    "                insight_attr.append(insight_mean_attr)\n",
    "\n",
    "for key in question_attr:\n",
    "    day_attr = torch.mean(torch.stack(question_attr[key]))\n",
    "\n",
    "    if key in [1,3,5,7]:\n",
    "        print(f\"({key}, {day_attr.item()})\")\n"
   ]
  },
  {
   "cell_type": "code",
   "execution_count": 13,
   "metadata": {},
   "outputs": [],
   "source": [
    "from typing import Union, Tuple\n",
    "import matplotlib.pyplot as plt\n",
    "import numpy as np\n",
    "from matplotlib.colors import LinearSegmentedColormap\n",
    "\n",
    "def plot_token_attr(\n",
    "    token_attr, input_tokens, output_tokens, show: bool = True\n",
    ") -> Union[None, Tuple[plt.Figure, plt.Axes]]:\n",
    "    \"\"\"\n",
    "    Generate a matplotlib plot for visualizing the attribution of output tokens.\n",
    "\n",
    "    Args:\n",
    "        token_attr (torch.Tensor): The tensor containing token attributions.\n",
    "        input_tokens (List[str]): List of input tokens used as x-axis labels.\n",
    "        output_tokens (List[str]): List of output tokens used as y-axis labels.\n",
    "        show (bool, optional): Whether to display the plot immediately or return the figure and axis.\n",
    "            Default: True.\n",
    "\n",
    "    Returns:\n",
    "        Union[None, Tuple[plt.Figure, plt.Axes]]: None if `show` is True, otherwise returns the figure and axes.\n",
    "    \"\"\"\n",
    "    if token_attr is None:\n",
    "        raise ValueError(\n",
    "            \"token_attr is None (no token-level attribution was performed). Please use plot_seq_attr \"\n",
    "            \"instead for the sequence-level attribution plot.\"\n",
    "        )\n",
    "\n",
    "    # Ensure the token_attr is on the CPU\n",
    "    token_attr = token_attr.cpu()\n",
    "\n",
    "    # Convert token_attr to a NumPy array for visualization\n",
    "    data = token_attr.numpy()\n",
    "\n",
    "    # Define a custom colormap with the specified positive and negative colors\n",
    "    positive_color = (102 / 255, 194 / 255, 165 / 255)  # RGB normalized to 0-1 range\n",
    "    negative_color = (251 / 255, 84 / 255, 56 / 255)   # RGB normalized to 0-1 range\n",
    "    zero_color = (1, 1, 1)  # White for neutral (zero) values\n",
    "\n",
    "    # Create the custom colormap using LinearSegmentedColormap\n",
    "    cmap = LinearSegmentedColormap.from_list(\n",
    "        \"custom_cmap\",\n",
    "        [negative_color, zero_color, positive_color],\n",
    "        N=256\n",
    "    )\n",
    "\n",
    "    # Create the figure and axis\n",
    "    fig, ax = plt.subplots(figsize=(max(data.shape[1] * 1.3, 6.4), max(data.shape[0] / 2.5, 4.8)))\n",
    "\n",
    "    # Plot the heatmap with the custom colormap and normalized color range centered around zero\n",
    "    im = ax.imshow(data, cmap=cmap, vmin=-1, vmax=1, aspect=0.5)\n",
    "\n",
    "    # Create a colorbar with a label\n",
    "    cbar = fig.colorbar(im, ax=ax, fraction=0.024, pad=0.04) \n",
    "    cbar.ax.set_ylabel(\"Attribution Score\", rotation=-90, va=\"bottom\", fontsize=15)\n",
    "    plt.setp(ax.get_xticklabels(), rotation=-30, ha=\"right\", rotation_mode=\"anchor\")\n",
    "\n",
    "    # Set tick labels for x and y axes\n",
    "    ax.set_xticks(np.arange(data.shape[1]), labels=input_tokens)\n",
    "    ax.set_yticks(np.arange(data.shape[0]), labels=output_tokens)\n",
    "\n",
    "    # Move the x-axis labels to the top\n",
    "    ax.tick_params(top=True, bottom=False, labeltop=True, labelbottom=False)\n",
    "\n",
    "    # Rotate x-axis labels for better readability\n",
    "    plt.setp(ax.get_xticklabels(), rotation=-30, ha=\"right\", rotation_mode=\"anchor\")\n",
    "    # plt.setp(ax.get_xticklabels(), rotation=0, rotation_mode=\"anchor\")\n",
    "\n",
    "    # Add text annotations on each cell with color contrast adjustment\n",
    "    for i in range(data.shape[0]):\n",
    "        for j in range(data.shape[1]):\n",
    "            val = data[i, j]\n",
    "            color = \"black\" if 0.2 < im.norm(val) < 0.8 else \"white\"\n",
    "            ax.text(\n",
    "                j, i, f\"{val:.4f}\",\n",
    "                ha=\"center\", va=\"center\", color=color\n",
    "            )\n",
    "\n",
    "    # Show the plot or return the figure and axis based on the `show` flag\n",
    "    if show:\n",
    "        plt.show()\n",
    "        return None\n",
    "    else:\n",
    "        return fig, ax"
   ]
  },
  {
   "cell_type": "code",
   "execution_count": 23,
   "metadata": {},
   "outputs": [
    {
     "name": "stderr",
     "output_type": "stream",
     "text": [
      "180it [00:00, 9331.85it/s]\n"
     ]
    }
   ],
   "source": [
    "constraint_dict = {x:{y:[] for y in ['transportation','restaurant','accommodation','attraction']} for x in ['selected_cost_item', 'selected_minimum_nights_item', 'selected_house_rules_item', 'selected_room_type_item','selected_cuisine_item']}\n",
    "\n",
    "for idx, instance in tqdm(enumerate(outputs)):\n",
    "    if pairs_save[idx] is None or instance is None:\n",
    "        continue\n",
    "    constraint_pairs = pairs_save[idx]\n",
    "\n",
    "    feature_n = len(constraint_pairs) + 1\n",
    "    \n",
    "    for pos, item in enumerate(constraint_pairs):\n",
    "        feature = item[0]\n",
    "        values = []\n",
    "        if feature == 'selected_cost_item':\n",
    "            for unit in instance:\n",
    "                for entry in unit:\n",
    "                    label = entry[0]\n",
    "                    if label in ['breakfast','lunch','dinner']:\n",
    "                        label = 'restaurant'\n",
    "                    if \"'-\" not in entry[1]:\n",
    "                        constraint_dict[feature][label].append(entry[2][pos])\n",
    "        elif feature == 'selected_minimum_nights_item':\n",
    "            for unit in instance:\n",
    "                for entry in unit:\n",
    "                    label = entry[0]\n",
    "                    if label in ['breakfast','lunch','dinner']:\n",
    "                        label = 'restaurant'\n",
    "                    if \"'-\" not in entry[1]:\n",
    "                        constraint_dict[feature][label].append(entry[2][pos])\n",
    "        elif feature == 'selected_house_rules_item':\n",
    "            for unit in instance:\n",
    "                for entry in unit:\n",
    "                    label = entry[0]\n",
    "                    if label in ['breakfast','lunch','dinner']:\n",
    "                        label = 'restaurant'\n",
    "                    if \"'-\" not in entry[1]:\n",
    "                        constraint_dict[feature][label].append(entry[2][pos])\n",
    "        elif feature == 'selected_cuisine_item':\n",
    "            for unit in instance:\n",
    "                for entry in unit:\n",
    "                    label = entry[0]\n",
    "                    if label in ['breakfast','lunch','dinner']:\n",
    "                        label = 'restaurant'\n",
    "                    if \"'-\" not in entry[1]:\n",
    "                        constraint_dict[feature][label].append(entry[2][pos])\n",
    "        elif feature == 'selected_room_type_item':\n",
    "            for unit in instance:\n",
    "                for entry in unit:\n",
    "                    label = entry[0]\n",
    "                    if label in ['breakfast','lunch','dinner']:\n",
    "                        label = 'restaurant'\n",
    "                    if \"'-\" not in entry[1]:\n",
    "                        constraint_dict[feature][label].append(entry[2][pos])"
   ]
  },
  {
   "cell_type": "code",
   "execution_count": 25,
   "metadata": {},
   "outputs": [
    {
     "name": "stdout",
     "output_type": "stream",
     "text": [
      "torch.Size([4, 5])\n"
     ]
    },
    {
     "data": {
      "image/png": "[encoded data removed]",
      "text/plain": [
       "<Figure size 650x480 with 2 Axes>"
      ]
     },
     "metadata": {},
     "output_type": "display_data"
    }
   ],
   "source": [
    "from copy import deepcopy\n",
    "transportation = torch.stack([torch.mean(torch.stack(constraint_dict[x]['transportation']),dim=0) for x in constraint_dict])\n",
    "\n",
    "restaurant = torch.stack([torch.mean(torch.stack(constraint_dict[x]['restaurant']),dim=0) for x in constraint_dict])\n",
    "accommodation = torch.stack([torch.mean(torch.stack(constraint_dict[x]['accommodation']),dim=0) for x in constraint_dict])\n",
    "attraction = torch.stack([torch.mean(torch.stack(constraint_dict[x]['attraction']),dim=0) for x in constraint_dict])\n",
    "transportation = transportation.unsqueeze(1)\n",
    "restaurant = restaurant.unsqueeze(1)\n",
    "accommodation = accommodation.unsqueeze(1)\n",
    "attraction = attraction.unsqueeze(1)\n",
    "\n",
    "# Now stack them together\n",
    "new_values = torch.cat([ transportation,restaurant,accommodation,attraction], dim=1)\n",
    "new_values = new_values.transpose(0, 1)\n",
    "\n",
    "print(new_values.shape)\n",
    "fig, ax = plot_token_attr(new_values,['Cost','Minimum Nights','House Rule','Room Type','Cuisine'],['Transportation','Restaurant','Accommodation','Attraction'],False)"
   ]
  }
 ],
 "metadata": {
  "kernelspec": {
   "display_name": "agent-planning",
   "language": "python",
   "name": "python3"
  },
  "language_info": {
   "codemirror_mode": {
    "name": "ipython",
    "version": 3
   },
   "file_extension": ".py",
   "mimetype": "text/x-python",
   "name": "python",
   "nbconvert_exporter": "python",
   "pygments_lexer": "ipython3",
   "version": "3.9.20"
  }
 },
 "nbformat": 4,
 "nbformat_minor": 2
}
